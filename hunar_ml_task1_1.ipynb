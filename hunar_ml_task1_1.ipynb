{
  "nbformat": 4,
  "nbformat_minor": 0,
  "metadata": {
    "colab": {
      "provenance": [],
      "authorship_tag": "ABX9TyNMw5VS3oVwg7whj+W3R490",
      "include_colab_link": true
    },
    "kernelspec": {
      "name": "python3",
      "display_name": "Python 3"
    },
    "language_info": {
      "name": "python"
    }
  },
  "cells": [
    {
      "cell_type": "markdown",
      "metadata": {
        "id": "view-in-github",
        "colab_type": "text"
      },
      "source": [
        "<a href=\"https://colab.research.google.com/github/j88k77/Hunar-Intern/blob/main/hunar_ml_task1_1.ipynb\" target=\"_parent\"><img src=\"https://colab.research.google.com/assets/colab-badge.svg\" alt=\"Open In Colab\"/></a>"
      ]
    },
    {
      "source": [
        "import numpy as np\n",
        "\n",
        "while True:\n",
        "  try:\n",
        "    order = int(input('give order for the matrix '))\n",
        "    break\n",
        "  except ValueError:\n",
        "    print(\"Invalid input. Please enter an integer.\")\n",
        "\n",
        "matrix = np.zeros((order, order), dtype=int)\n",
        "\n",
        "print(f\"enter {order*order} elements for the matrix\")\n",
        "\n",
        "for i in range(order):\n",
        "    for j in range(order):\n",
        "        while True:\n",
        "          try:\n",
        "            matrix[i, j] = int(input(f\"enter element [{i},{j}] for the matrix \"))\n",
        "            break\n",
        "          except ValueError:\n",
        "            print(\"Invalid input. Please enter an integer.\")\n",
        "\n",
        "print(\"matrix :\")\n",
        "print(matrix)\n",
        "\n",
        "sumdiagonal = 0\n",
        "for i in range(order):\n",
        "    sumdiagonal += matrix[i, i]\n",
        "\n",
        "print(\"Sum of diagonal elements:\", sumdiagonal)"
      ],
      "cell_type": "code",
      "metadata": {
        "colab": {
          "base_uri": "https://localhost:8080/"
        },
        "id": "gtEKa3dfC7Em",
        "outputId": "f081ee47-6acc-42d6-c7e0-3b7a72929c00"
      },
      "execution_count": 4,
      "outputs": [
        {
          "output_type": "stream",
          "name": "stdout",
          "text": [
            "give order for the matrix 3\n",
            "enter 9 elements for the matrix\n",
            "enter element [0,0] for the matrix 4\n",
            "enter element [0,1] for the matrix 6\n",
            "enter element [0,2] for the matrix 8\n",
            "enter element [1,0] for the matrix 12\n",
            "enter element [1,1] for the matrix 4\n",
            "enter element [1,2] for the matrix 7\n",
            "enter element [2,0] for the matrix 0\n",
            "enter element [2,1] for the matrix 3\n",
            "enter element [2,2] for the matrix 6\n",
            "matrix :\n",
            "[[ 4  6  8]\n",
            " [12  4  7]\n",
            " [ 0  3  6]]\n",
            "Sum of diagonal elements: 14\n"
          ]
        }
      ]
    },
    {
      "cell_type": "code",
      "source": [],
      "metadata": {
        "id": "waWaYb-4CLiW"
      },
      "execution_count": null,
      "outputs": []
    }
  ]
}